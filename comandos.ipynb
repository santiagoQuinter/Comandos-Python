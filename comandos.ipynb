{
 "cells": [
  {
   "cell_type": "markdown",
   "metadata": {},
   "source": [
    "Para declarar variables a diferencia de otros lenguajes como **java** o **C#**, no es necesario agregar el tipo de *variable*.\n",
    "\n",
    "* lunes\n",
    "- Martes\n",
    "+ Miercoles\n",
    "\n",
    "[Link ](https://www.youtube.com/watch?v=J1QDJsN3ptI)"
   ]
  },
  {
   "cell_type": "code",
   "execution_count": 8,
   "metadata": {},
   "outputs": [
    {
     "name": "stdout",
     "output_type": "stream",
     "text": [
      "Azul\n"
     ]
    }
   ],
   "source": [
    "color =\"Azul\"\n",
    "print(color)"
   ]
  },
  {
   "cell_type": "code",
   "execution_count": 15,
   "metadata": {},
   "outputs": [
    {
     "data": {
      "image/jpeg": "[encoded data removed]",
      "text/plain": [
       "<IPython.core.display.Image object>"
      ]
     },
     "execution_count": 15,
     "metadata": {},
     "output_type": "execute_result"
    }
   ],
   "source": [
    "from IPython.display import Image\n",
    "Image(filename='imagen.jpg')"
   ]
  },
  {
   "cell_type": "code",
   "execution_count": 17,
   "metadata": {},
   "outputs": [
    {
     "ename": "SyntaxError",
     "evalue": "invalid syntax (<ipython-input-17-33f38c2ecfac>, line 1)",
     "output_type": "error",
     "traceback": [
      "\u001b[1;36m  File \u001b[1;32m\"<ipython-input-17-33f38c2ecfac>\"\u001b[1;36m, line \u001b[1;32m1\u001b[0m\n\u001b[1;33m    1. Enero\u001b[0m\n\u001b[1;37m           ^\u001b[0m\n\u001b[1;31mSyntaxError\u001b[0m\u001b[1;31m:\u001b[0m invalid syntax\n"
     ]
    }
   ],
   "source": [
    "1. Enero\n",
    "2. Febrero\n",
    "3. Marzo\n"
   ]
  },
  {
   "cell_type": "markdown",
   "metadata": {},
   "source": [
    "## pwd #Conocer el directorioqwerqer\n",
    "qerqwerqer"
   ]
  },
  {
   "cell_type": "code",
   "execution_count": 22,
   "metadata": {},
   "outputs": [
    {
     "name": "stdout",
     "output_type": "stream",
     "text": [
      " Volume in drive C has no label.\n",
      " Volume Serial Number is 4837-D288\n",
      "\n",
      " Directory of C:\\Users\\Santiago Quintero\\Desktop\\Comandos Python\n",
      "\n",
      "06/09/2019  01:19 PM    <DIR>          .\n",
      "06/09/2019  01:19 PM    <DIR>          ..\n",
      "06/09/2019  12:11 PM    <DIR>          .ipynb_checkpoints\n",
      "06/09/2019  01:19 PM            19,532 comandos.ipynb\n",
      "06/09/2019  01:12 PM            12,245 imagen.jpg\n",
      "06/09/2019  12:17 PM                89 Readme.md\n",
      "               3 File(s)         31,866 bytes\n",
      "               3 Dir(s)  152,576,126,976 bytes free\n"
     ]
    }
   ],
   "source": [
    "ls"
   ]
  },
  {
   "cell_type": "markdown",
   "metadata": {},
   "source": [
    "# Python \n",
    "Python es un lenguaje de programación interpretado cuya filosofía hace hincapié en una sintaxis que favorezca un código legible"
   ]
  },
  {
   "cell_type": "markdown",
   "metadata": {},
   "source": [
    "## Elementos básicos\n",
    "- Para escribir comentarios se utiliza el **#** al comienzo de cada linea\n",
    "para comentarios multilinea se emplea el las 3 comillas sean dobles o simples  \"\"\"comentario\"\"\" '''comentario'''\n",
    "\n",
    "- Para imprimir en pantalla se utiliza la plantilla print()\n",
    "- dir() --Permite saber que se puede hacer con un tipo de dato"
   ]
  },
  {
   "cell_type": "code",
   "execution_count": 75,
   "metadata": {},
   "outputs": [
    {
     "name": "stdout",
     "output_type": "stream",
     "text": [
      "Hola mundo\n"
     ]
    }
   ],
   "source": [
    "#Hola mundo\n",
    "'''El siguiente código es\n",
    "un hola mundo en python'''\n",
    "print(\"Hola mundo\")\n",
    "#print(dir(\"uno\"))"
   ]
  },
  {
   "cell_type": "markdown",
   "metadata": {},
   "source": [
    "## Variables\n",
    "Para declarar variables a diferencia de otros lenguajes como **java** o **C#**, no es necesario agregar el tipo de dato, ya que Python identifica el tipo automáticamente.\n",
    "\n",
    "* Python es un lenguaje dinámicamente tipado, es decir se puede asignar distintos tipos a una variable a lo largo del código\n",
    "* Case Sensitive \n",
    "* Para nombrar un variable no se puede iniciar con un **número**\n",
    "* Se pueden declarar multiples variables al tiempo -- nombre, color, numero = \"Valentina\", \"blue\", 3.14\n",
    "* nombre_completo --**Snake Case**\n",
    "* nombreCompleto --**Camel Case**\n",
    "* Constante se declaran en mayúscula: PI = 3.14\n",
    "\n"
   ]
  },
  {
   "cell_type": "code",
   "execution_count": 72,
   "metadata": {},
   "outputs": [
    {
     "name": "stdout",
     "output_type": "stream",
     "text": [
      "<class 'str'>\n",
      "<class 'int'>\n",
      "Valentina blue 3.14\n",
      "3.14 2.71\n"
     ]
    }
   ],
   "source": [
    "color = \"azul\"\n",
    "pi = 3.14\n",
    "abierto = True\n",
    "\n",
    "#Conocer el tipo de varibles\n",
    "print(type(color))\n",
    "\n",
    "#Probando el tipado dinámico\n",
    "color = 1\n",
    "print(type(color))\n",
    "\n",
    "#Declaración de multiplies variables en una sola linea \n",
    "nombre, color, numero = \"Valentina\", \"blue\", 3.14\n",
    "print(nombre, color, numero)\n",
    "\n",
    "#Constantes\n",
    "PI = 3.14\n",
    "E=2.71\n",
    "print(PI,E )\n"
   ]
  },
  {
   "cell_type": "markdown",
   "metadata": {},
   "source": [
    "## Tipos de datos \n",
    "En python existe los siguientes tipos de datos \n",
    "* Entero -- **int** -- 23234 -- 234 --Si se concatena números el interprete los suma\n",
    "* Cadena -- **string** -- \"ejemplo de string\" --- 'String con comilla simple', '''String con 3 comillas'''\n",
    "    * **Concatenar** string(unir) -- \"hola\" + \"Siomara\"\n",
    "* Decimal -- **float** -- 3.14 -- 2.71\n",
    "* Booleao -- **Boolean** -- True -- False\n",
    "* Tipo de dato vacio -- **None**"
   ]
  },
  {
   "cell_type": "code",
   "execution_count": 46,
   "metadata": {
    "scrolled": true
   },
   "outputs": [
    {
     "name": "stdout",
     "output_type": "stream",
     "text": [
      "holaSiomara\n",
      "9\n"
     ]
    }
   ],
   "source": [
    "entero = 1234\n",
    "cadena = \"Galaxia elíptica\" \n",
    "decimal = 2.71\n",
    "booleano = True\n",
    "\n",
    "#Concatenar cadenas de caracteres \n",
    "saludo = \"hola\" + \"Siomara\"\n",
    "print(saludo)\n",
    "\n",
    "#Concatenar números \n",
    "print( 4 + 5)\n"
   ]
  },
  {
   "cell_type": "markdown",
   "metadata": {},
   "source": [
    "## String"
   ]
  },
  {
   "cell_type": "code",
   "execution_count": 116,
   "metadata": {},
   "outputs": [
    {
     "name": "stdout",
     "output_type": "stream",
     "text": [
      "TEXTO DE PRUEBA\n",
      "texto de prueba\n",
      "TEXTO de PRUEBA\n",
      "Texto de prueba\n",
      "planeta DE prueba\n",
      "1\n",
      "True\n",
      "True\n",
      "['t', 'xto DE pru', 'ba']\n",
      "4\n",
      "15\n",
      "0\n",
      "False\n",
      "False\n",
      "t\n",
      "a\n"
     ]
    }
   ],
   "source": [
    "cadena = \"texto DE prueba\"\n",
    "print(cadena.upper())\n",
    "print(cadena.lower())\n",
    "print(cadena.swapcase()) #Intercambia mayúsculas y minúsculas\n",
    "print(cadena.capitalize()) #Primera en Mayúscula\n",
    "print(cadena.replace('texto','planeta'))\n",
    "print(cadena.count('pr')) #Cuenta el número de veces que aparece una cadena\n",
    "print(cadena.startswith(\"texto\")) #Comienza con\n",
    "print(cadena.endswith(\"a\")) #temina con\n",
    "print(cadena.split(\"e\")) #separa por un caracter\n",
    "print(cadena.find(\"o\"))  #Busca el caracter, si lo encuentra devuelve su posicion\n",
    "print(len(cadena)) #Tamaño de la cadena\n",
    "print(cadena.index(\"t\")) #Indice del caracter\n",
    "print(cadena.isnumeric()) # numérico\n",
    "print(cadena.isalpha()) #alphanumérico\n",
    "print(cadena[3]) #Imprimir un solo caracter\n",
    "print(cadena[-1]) #Imprime empezando por el final "
   ]
  },
  {
   "cell_type": "markdown",
   "metadata": {},
   "source": [
    "## Números"
   ]
  },
  {
   "cell_type": "code",
   "execution_count": 124,
   "metadata": {},
   "outputs": [
    {
     "name": "stdout",
     "output_type": "stream",
     "text": [
      "12\n",
      "23.4545\n",
      "8\n",
      "4\n",
      "1\n"
     ]
    }
   ],
   "source": [
    "entero = 12\n",
    "decimal = 23.4545\n",
    "print(entero)\n",
    "print(decimal)\n",
    "dir(entero)\n",
    "#operaciones \n",
    "print(2 ** 3)\n",
    "print(9//2)\n",
    "print(9%2)\n"
   ]
  },
  {
   "cell_type": "markdown",
   "metadata": {},
   "source": [
    "## Listas \n",
    "Lista de datos sin importar su tipo: \n",
    "* Para declarar una lista se colocan los datos entre **corchetes** y separan por **coma** --- [1,2,3,4,5]\n",
    "* Los tipos de datos pueden se de distintos tipos -- [1, 2, \"Casa\" \"True\"]\n",
    "* Se puede declarar listas utilizando **list(1,2,3,4)** (contructur)\n",
    "* Longitud de una lisa len(lista)\n",
    "* para imprimir elementos de una lista solo se debe utilizar su posición lista[1]\n",
    "* Saber si un elemento esta en la lista **elemento in lista**\n",
    "* Agregar un elemento a la lista **append(3)**\n",
    "* Agregar varios elementos a la vez **extend([14,35,21])**\n",
    "* lista.inser(1,\"valor a insertar\")\n",
    "* lista.pop()\n",
    "* lista.remove('green')\n",
    "* lista.clear()"
   ]
  },
  {
   "cell_type": "code",
   "execution_count": 141,
   "metadata": {},
   "outputs": [
    {
     "name": "stdout",
     "output_type": "stream",
     "text": [
      "[1, 2, 3, 4, 5, 6]\n",
      "['papa', 'arroz', 'Cebolla']\n",
      "[1, 'Casa', 'Elefante', True]\n",
      "[1, 3, 5, 6, 7]\n",
      "5\n",
      "3\n",
      "True\n",
      "[1, 3, 5, 6, 7]\n",
      "[1, 3, 5, 6, 7, 43, 34, 59, 84]\n"
     ]
    }
   ],
   "source": [
    "listaNumeros = [1,2,3,4,5,6]\n",
    "listaString = [\"papa\", \"arroz\", \"Cebolla\"]\n",
    "listaCombinada = [1, \"Casa\",\"Elefante\", True]\n",
    "#Imprimir lista\n",
    "print(listaNumeros)\n",
    "print(listaString)\n",
    "print(listaCombinada)\n",
    "\n",
    "lista= [1,2,3,4,[3,4]]\n",
    "\n",
    "lista = list((1,3,5,6,7))\n",
    "print(lista)\n",
    "print(len(lista))\n",
    "print(lista[1])\n",
    "print(1 in lista)\n",
    "#lista[1]=\"ele\"\n",
    "print(lista)\n",
    "\n",
    "#Agregar un elemento\n",
    "lista.append(43)\n",
    "#Agregar varios elemento\n",
    "lista.extend([34,59,84])\n",
    "print(lista)"
   ]
  },
  {
   "cell_type": "markdown",
   "metadata": {},
   "source": [
    "## Tuplas \n",
    "Asi como las listas las tuplas también agrupan datos, la diferencia es que una vez se declara la tupla no se puede cambiar (es inmutable)\n",
    "* Para declarar tuplas se colocan los datos entre **parentesis** y se separan por **coma** -- (1,2,3,4,5)\n",
    "* del tupla "
   ]
  },
  {
   "cell_type": "code",
   "execution_count": 59,
   "metadata": {},
   "outputs": [
    {
     "name": "stdout",
     "output_type": "stream",
     "text": [
      "(1, 'uno', 3)\n"
     ]
    }
   ],
   "source": [
    "tupla = (1,2,3,4,5)\n",
    "tupla = (1,\"uno\",3)\n",
    "print(tupla)"
   ]
  },
  {
   "cell_type": "markdown",
   "metadata": {},
   "source": [
    "## Set\n",
    "Colección desordenada y sin indice\n",
    "\n",
    "{\"red\",\"green\",\"blue\"}\n",
    "* red in colores\n",
    "* colores.add(\"yellow\")\n"
   ]
  },
  {
   "cell_type": "code",
   "execution_count": 146,
   "metadata": {},
   "outputs": [
    {
     "name": "stdout",
     "output_type": "stream",
     "text": [
      "True\n"
     ]
    }
   ],
   "source": [
    "colores={\"red\",\"green\",\"blue\"}\n",
    "print(\"red\" in colores)\n",
    "colores.add(\"yellow\")\n",
    "colores.remove(\"red\")\n",
    "del colores"
   ]
  },
  {
   "cell_type": "markdown",
   "metadata": {},
   "source": [
    "## Range\n",
    "* Toma 2 parámetros que me dicen de donde a donde quiero crear determinado elemento\n",
    "    * lista del uno a n-1 **range(1,10)**\n",
    "* En caso de solo de que solo tenga un elemento por defecto se inicia desde cero\n",
    "    * **range(10)**\n",
    "* Se puede crear un lista a partir del rango -- list(range(1,10))\n",
    "    "
   ]
  },
  {
   "cell_type": "code",
   "execution_count": 147,
   "metadata": {},
   "outputs": [
    {
     "name": "stdout",
     "output_type": "stream",
     "text": [
      "range(1, 10)\n",
      "[1, 2, 3, 4, 5, 6, 7, 8, 9]\n",
      "range(0, 10)\n"
     ]
    }
   ],
   "source": [
    "rango = range(1,10)\n",
    "lista = list(range(1,10))\n",
    "print(rango)\n",
    "print(lista)\n",
    "print(range(10))"
   ]
  },
  {
   "cell_type": "markdown",
   "metadata": {},
   "source": [
    "## Diccionarios \n",
    "Estructura de datos para agrugar distintos tipos de datos con un nombre clave: \n",
    "* Para declarar un diccicionariio se colocan los datos entre **parentesis** con el formato: clave, valor -- {clave, valor}\n",
    "    * Obtener solo las claves **diccionario.keys() \n",
    "    * Obtener solo los valores **diccioanrio.items()\n",
    "    * del diccioario\n",
    "    * del clear()"
   ]
  },
  {
   "cell_type": "code",
   "execution_count": 151,
   "metadata": {},
   "outputs": [
    {
     "name": "stdout",
     "output_type": "stream",
     "text": [
      "{'nombre': 'Sara', 'edad': 20, 'genero': 'Femenino'}\n",
      "{'lat': 34, 'long': 23}\n",
      "<class 'dict'>\n",
      "{'nombre': 'granadilla', 'precio': 500, 'cantidad': 30}\n"
     ]
    }
   ],
   "source": [
    "diccionario = {\"nombre\": \"Sara\", \"edad\": 20, \"genero\":\"Femenino\"}\n",
    "print(diccionario)\n",
    "coordenadas = {\"lat\": 34,\n",
    "              \"long\": 23}\n",
    "print(coordenadas)\n",
    "print(type(coordenadas))\n",
    "\n",
    "producto = {\n",
    "    \"nombre\": \"granadilla\",\n",
    "    \"precio\": 500,\n",
    "    \"cantidad\": 30\n",
    "    \n",
    "}\n",
    "print(producto)"
   ]
  },
  {
   "cell_type": "markdown",
   "metadata": {},
   "source": [
    "# Input\n",
    "Toma un caracter de lo que tipee el usuario en la consola \n",
    "* Las entradas que son numéricas se deben convertir a enteros con la función **int()** o a decimales utilizando **float()** ya que python trata todas las entradas de teclado con String\n",
    "* También se puede convertir las entradas a String -- **str()**"
   ]
  },
  {
   "cell_type": "code",
   "execution_count": 128,
   "metadata": {},
   "outputs": [
    {
     "name": "stdout",
     "output_type": "stream",
     "text": [
      "Ingrese un numero23\n",
      "28\n",
      "23.0\n",
      "23\n"
     ]
    }
   ],
   "source": [
    "entrada = input(\"Ingrese un numero\")\n",
    "print(5 + int(entrada))\n",
    "print(float(entrada))\n",
    "print(str(entrada))\n"
   ]
  },
  {
   "cell_type": "markdown",
   "metadata": {},
   "source": [
    "## Condicionales"
   ]
  },
  {
   "cell_type": "code",
   "execution_count": 162,
   "metadata": {},
   "outputs": [
    {
     "name": "stdout",
     "output_type": "stream",
     "text": [
      "Tienes 18 años\n",
      "jejejeje\n",
      "2234.0\n"
     ]
    }
   ],
   "source": [
    "x = 18\n",
    "if x > 18:\n",
    "    print(\"Es mayor de edad\")\n",
    "elif x == 18:\n",
    "    print(\"Tienes 18 años\")\n",
    "else:\n",
    "    print(\"Es menor de edad\")\n",
    "    \n",
    "   \n",
    "x = 30\n",
    "if x > 20 and x < 40:\n",
    "    print(\"jejejeje\")\n",
    "    \n",
    "    \n",
    "if x > 40 or x < 20:\n",
    "    print(\"alalal\")\n",
    "\n",
    "    \n",
    "numeroEntero = float(2234)\n",
    "print(numeroEntero)"
   ]
  }
 ],
 "metadata": {
  "kernelspec": {
   "display_name": "Python 3",
   "language": "python",
   "name": "python3"
  },
  "language_info": {
   "codemirror_mode": {
    "name": "ipython",
    "version": 3
   },
   "file_extension": ".py",
   "mimetype": "text/x-python",
   "name": "python",
   "nbconvert_exporter": "python",
   "pygments_lexer": "ipython3",
   "version": "3.7.3"
  }
 },
 "nbformat": 4,
 "nbformat_minor": 2
}
