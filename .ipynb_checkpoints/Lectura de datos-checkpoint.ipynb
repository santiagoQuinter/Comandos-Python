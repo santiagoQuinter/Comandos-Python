{
 "cells": [
  {
   "cell_type": "markdown",
   "metadata": {},
   "source": [
    "## Lectura y escritura de archivos de texto con **open**\n",
    "La función Cell(open(<filename>, <mode>) permite abrir el archivo llamado <filename>; <mode> es una cadena de texto que especifica la forma en que se habre el archivo asi: 'r' para lectura, 'w' para escritura (borra el contenido del archivo) y 'a' para escribir al final (append); adicionalmente, se puede agregar 'b' para indicar que el archivo se abre en modo binario (por defecto se abre en mdoeo texto). open devuelve un objeto que permite manipuar el archivo.\n",
    "    "
   ]
  },
  {
   "cell_type": "markdown",
   "metadata": {},
   "source": [
    "## Escritura de una variable con texto a un archivo"
   ]
  },
  {
   "cell_type": "code",
   "execution_count": 74,
   "metadata": {},
   "outputs": [
    {
     "name": "stdout",
     "output_type": "stream",
     "text": [
      "R is a programming language and software environment for statistical computing\n",
      "and graphics supported by the R Foundation for Statistical Computing.[3] The R language\n",
      "is widely used among statisticians and data miners for developing statistical software[4]\n",
      "and data analysis.[5] Polls, surveys of data miners, and studies of scholarly literature\n",
      "databases show that R's popularity has increased substantially in recent years.[6]\n",
      "\n",
      "429\n"
     ]
    }
   ],
   "source": [
    "## Se almacena un texto en una variable.\n",
    "txt = '''R is a programming language and software environment for statistical computing\n",
    "and graphics supported by the R Foundation for Statistical Computing.[3] The R language\n",
    "is widely used among statisticians and data miners for developing statistical software[4]\n",
    "and data analysis.[5] Polls, surveys of data miners, and studies of scholarly literature\n",
    "databases show that R's popularity has increased substantially in recent years.[6]\n",
    "'''\n",
    "print(txt)\n",
    "print(len(txt))"
   ]
  },
  {
   "cell_type": "code",
   "execution_count": 75,
   "metadata": {},
   "outputs": [
    {
     "data": {
      "text/plain": [
       "429"
      ]
     },
     "execution_count": 75,
     "metadata": {},
     "output_type": "execute_result"
    }
   ],
   "source": [
    "## Se escribe el contenido de `txt` a un archivo en disco\n",
    "open('./wikipedia.txt', 'w').write(txt)"
   ]
  },
  {
   "cell_type": "code",
   "execution_count": 36,
   "metadata": {},
   "outputs": [
    {
     "name": "stdout",
     "output_type": "stream",
     "text": [
      "R is a programming language and software environment for statistical computing\n",
      "and graphics supported by the R Foundation for Statistical Computing.[3] The R language\n",
      "is widely used among statisticians and data miners for developing statistical software[4]\n",
      "and data analysis.[5] Polls, surveys of data miners, and studies of scholarly literature\n",
      "databases show that R's popularity has increased substantially in recent years.[6]\n",
      "\n",
      "429\n"
     ]
    }
   ],
   "source": [
    "## abre el archivo, lee todo el contenido del archivo y luego lo cierra.\n",
    "txt = open('C:/Users/Santiago Quintero/Desktop/Comandos Python/wikipedia.txt', 'r').read()\n",
    "print(txt)\n",
    "print(len(txt))"
   ]
  },
  {
   "cell_type": "markdown",
   "metadata": {},
   "source": [
    "## Escritura secuencial a un archivo\n"
   ]
  },
  {
   "cell_type": "code",
   "execution_count": 31,
   "metadata": {},
   "outputs": [],
   "source": [
    "## Se abre el archivo para escritura\n",
    "f = open('out.txt', 'w')"
   ]
  },
  {
   "cell_type": "code",
   "execution_count": 32,
   "metadata": {},
   "outputs": [],
   "source": [
    "## impresión de varias lineas en un solo print\n",
    "print(\"linea 1\", \"linea 2\", \"linea 3\", sep='\\n', file=f)"
   ]
  },
  {
   "cell_type": "code",
   "execution_count": 33,
   "metadata": {},
   "outputs": [],
   "source": [
    "## impresión de una línea por print\n",
    "print(\"linea 4\", file=f)\n",
    "print(\"linea 5\", file=f)\n",
    "print(\"linea 6\", file=f)"
   ]
  },
  {
   "cell_type": "code",
   "execution_count": 34,
   "metadata": {},
   "outputs": [
    {
     "data": {
      "text/plain": [
       "7"
      ]
     },
     "execution_count": 34,
     "metadata": {},
     "output_type": "execute_result"
    }
   ],
   "source": [
    "## impresión usando write\n",
    "f.write('linea 7')"
   ]
  },
  {
   "cell_type": "code",
   "execution_count": 35,
   "metadata": {},
   "outputs": [],
   "source": [
    "## cierra el archivo\n",
    "f.close()"
   ]
  },
  {
   "cell_type": "markdown",
   "metadata": {},
   "source": [
    "## Lectura de un archivo"
   ]
  },
  {
   "cell_type": "code",
   "execution_count": 42,
   "metadata": {},
   "outputs": [
    {
     "data": {
      "text/plain": [
       "'linea 1\\nlinea 2\\nlinea 3\\nlinea 4\\nlinea 5\\nlinea 6\\nlinea 7'"
      ]
     },
     "execution_count": 42,
     "metadata": {},
     "output_type": "execute_result"
    }
   ],
   "source": [
    "## contenido del archivo\n",
    "open('out.txt', 'r').read()"
   ]
  },
  {
   "cell_type": "code",
   "execution_count": 43,
   "metadata": {},
   "outputs": [
    {
     "name": "stdout",
     "output_type": "stream",
     "text": [
      "linea 1\n",
      "linea 2\n",
      "linea 3\n",
      "linea 4\n",
      "linea 5\n",
      "linea 6\n",
      "linea 7\n"
     ]
    }
   ],
   "source": [
    "## impresión con formato del contenido de un archivo.\n",
    "print(open('out.txt', 'r').read())"
   ]
  },
  {
   "cell_type": "code",
   "execution_count": 44,
   "metadata": {},
   "outputs": [
    {
     "name": "stdout",
     "output_type": "stream",
     "text": [
      "linea 1\n",
      "linea 2\n",
      "linea 3\n",
      "linea 4\n",
      "linea 5\n",
      "linea 6\n",
      "linea 7"
     ]
    }
   ],
   "source": [
    "## forma alternativa (mas usual)\n",
    "with open('out.txt', 'r') as f:\n",
    "    print(f.read(), end='')    # el archivo se cierra al salir del bloque `with`"
   ]
  },
  {
   "cell_type": "code",
   "execution_count": 45,
   "metadata": {},
   "outputs": [
    {
     "data": {
      "text/plain": [
       "True"
      ]
     },
     "execution_count": 45,
     "metadata": {},
     "output_type": "execute_result"
    }
   ],
   "source": [
    "f.closed # es una función que devuelve `True` cuando el archivo está cerrado."
   ]
  },
  {
   "cell_type": "code",
   "execution_count": 47,
   "metadata": {
    "scrolled": true
   },
   "outputs": [
    {
     "data": {
      "text/plain": [
       "['linea 1\\n',\n",
       " 'linea 2\\n',\n",
       " 'linea 3\\n',\n",
       " 'linea 4\\n',\n",
       " 'linea 5\\n',\n",
       " 'linea 6\\n',\n",
       " 'linea 7']"
      ]
     },
     "execution_count": 47,
     "metadata": {},
     "output_type": "execute_result"
    }
   ],
   "source": [
    "## Otra forma, observe el uso de `list`.\n",
    "f = open('out.txt', 'r')\n",
    "x = list(f)\n",
    "f.close()\n",
    "x  # note que aparece el retorno de carro '\\n' al final de cada línea"
   ]
  },
  {
   "cell_type": "markdown",
   "metadata": {},
   "source": [
    "## Lectura secuencial del contenido de un archivo línea por línea"
   ]
  },
  {
   "cell_type": "code",
   "execution_count": 48,
   "metadata": {},
   "outputs": [],
   "source": [
    "## Lectura del contenido\n",
    "## de un archivo línea a línea.\n",
    "f = open('out.txt', 'r')"
   ]
  },
  {
   "cell_type": "code",
   "execution_count": 49,
   "metadata": {},
   "outputs": [
    {
     "data": {
      "text/plain": [
       "'linea 1\\n'"
      ]
     },
     "execution_count": 49,
     "metadata": {},
     "output_type": "execute_result"
    }
   ],
   "source": [
    "## Lee la primera línea.\n",
    "f.readline()"
   ]
  },
  {
   "cell_type": "code",
   "execution_count": 50,
   "metadata": {},
   "outputs": [
    {
     "data": {
      "text/plain": [
       "'linea 2\\n'"
      ]
     },
     "execution_count": 50,
     "metadata": {},
     "output_type": "execute_result"
    }
   ],
   "source": [
    "\n",
    "## lee la segunda línea.\n",
    "f.readline()"
   ]
  },
  {
   "cell_type": "code",
   "execution_count": 51,
   "metadata": {},
   "outputs": [
    {
     "data": {
      "text/plain": [
       "'linea 3\\n'"
      ]
     },
     "execution_count": 51,
     "metadata": {},
     "output_type": "execute_result"
    }
   ],
   "source": [
    "## lee la tercera línea y así sucesivamente\n",
    "## hasta alcanzar el final del archivo\n",
    "f.readline()"
   ]
  },
  {
   "cell_type": "code",
   "execution_count": 53,
   "metadata": {},
   "outputs": [],
   "source": [
    "f.close() # cierra el archivo."
   ]
  },
  {
   "cell_type": "markdown",
   "metadata": {},
   "source": [
    "## Lectura secuencial del contenido de un archivo usando un ciclo  for \n",
    "En el siguiente ejemplo se ilustra como usar un ciclo for para leer el contenido de un archivo."
   ]
  },
  {
   "cell_type": "code",
   "execution_count": 60,
   "metadata": {},
   "outputs": [
    {
     "name": "stdout",
     "output_type": "stream",
     "text": [
      "linea 1\n",
      "linea 2\n",
      "linea 3\n",
      "linea 4\n",
      "linea 5\n",
      "linea 6\n",
      "linea 7"
     ]
    }
   ],
   "source": [
    "## abre el archivo\n",
    "f = open('out.txt', 'r')\n",
    "\n",
    "## se itera sobre cada linea del archivo\n",
    "## una a la vez\n",
    "for line in f:\n",
    "    print(line, end='')\n",
    "f.close()"
   ]
  },
  {
   "cell_type": "markdown",
   "metadata": {},
   "source": [
    "##  Lectura y escritura de tablas de texto (Archivos delimitados por caracteres)\n",
    "Los delimitadores incluyen el espacio en blanco, la coma y el punto y coma. El parámetro delimiter permite especificar el caracter delimitador, mientrasq que el parámetro quoting permite especificar los delimitadores para los strings."
   ]
  },
  {
   "cell_type": "code",
   "execution_count": 135,
   "metadata": {},
   "outputs": [
    {
     "data": {
      "text/plain": [
       "[['index', 'name', 'value'],\n",
       " [1, 'A', 3.03],\n",
       " [2, 'B', 5.14],\n",
       " [3, 'C', 0.4],\n",
       " [4, 'D', 1.13],\n",
       " [5, 'E', 8.25]]"
      ]
     },
     "execution_count": 135,
     "metadata": {},
     "output_type": "execute_result"
    }
   ],
   "source": [
    "## crea la tabla de datos de prueba.\n",
    "## cada fila es una lista\n",
    "df = [[\"index\", \"name\", \"value\"],\n",
    "      [1, \"A\", 3.03],\n",
    "      [2, \"B\", 5.14],\n",
    "      [3, \"C\", 0.40],\n",
    "      [4, \"D\", 1.13],\n",
    "      [5, \"E\", 8.25]]\n",
    "df"
   ]
  },
  {
   "cell_type": "code",
   "execution_count": 98,
   "metadata": {},
   "outputs": [],
   "source": [
    "## importa la librería\n",
    "import csv"
   ]
  },
  {
   "cell_type": "markdown",
   "metadata": {},
   "source": [
    "## Archivos delimitados por espacio"
   ]
  },
  {
   "cell_type": "code",
   "execution_count": 99,
   "metadata": {},
   "outputs": [],
   "source": [
    "## escribe el archivo en forma de tabla de texto\n",
    "with open('./data.txt', 'w') as f:             # abre el archivo para escritura\n",
    "    x = csv.writer(f,                              # crea el objeto x\n",
    "                   delimiter=' ',                  # delimitado por ' '\n",
    "                   quoting=csv.QUOTE_NONNUMERIC)   # sin \" \" para los strings\n",
    "    for r in df:\n",
    "        x.writerow(r)"
   ]
  },
  {
   "cell_type": "markdown",
   "metadata": {},
   "source": [
    "Note que los strings están entre comillas."
   ]
  },
  {
   "cell_type": "code",
   "execution_count": 100,
   "metadata": {},
   "outputs": [
    {
     "name": "stdout",
     "output_type": "stream",
     "text": [
      "\"index\" \"name\" \"value\"\n",
      "\n",
      "1 \"A\" 3.03\n",
      "\n",
      "2 \"B\" 5.14\n",
      "\n",
      "3 \"C\" 0.4\n",
      "\n",
      "4 \"D\" 1.13\n",
      "\n",
      "5 \"E\" 8.25\n",
      "\n",
      "\n"
     ]
    }
   ],
   "source": [
    "## verifica el archivo creado\n",
    "print(open('./data.txt', 'r').read())"
   ]
  },
  {
   "cell_type": "code",
   "execution_count": 101,
   "metadata": {},
   "outputs": [
    {
     "data": {
      "text/plain": [
       "'\"index\" \"name\" \"value\"\\n\\n1 \"A\" 3.03\\n\\n2 \"B\" 5.14\\n\\n3 \"C\" 0.4\\n\\n4 \"D\" 1.13\\n\\n5 \"E\" 8.25\\n\\n'"
      ]
     },
     "execution_count": 101,
     "metadata": {},
     "output_type": "execute_result"
    }
   ],
   "source": [
    "## Lee el archivo como una tabla de texto\n",
    "with open('./data.txt', 'r') as f:\n",
    "    x = csv.reader(f,\n",
    "                    delimiter=' ',\n",
    "                    quoting=csv.QUOTE_NONNUMERIC)\n",
    "\n",
    "## verifica el archivo creado\n",
    "open('./data.txt', 'r').read()"
   ]
  },
  {
   "cell_type": "code",
   "execution_count": 102,
   "metadata": {},
   "outputs": [
    {
     "name": "stdout",
     "output_type": "stream",
     "text": [
      "\"index\" \"name\" \"value\"\n",
      "\n",
      "1 \"A\" 3.03\n",
      "\n",
      "2 \"B\" 5.14\n",
      "\n",
      "3 \"C\" 0.4\n",
      "\n",
      "4 \"D\" 1.13\n",
      "\n",
      "5 \"E\" 8.25\n",
      "\n",
      "\n"
     ]
    }
   ],
   "source": [
    "print(open('./data.txt', 'r').read())"
   ]
  },
  {
   "cell_type": "markdown",
   "metadata": {},
   "source": [
    "## Archivos delimitados por comas (CSV)"
   ]
  },
  {
   "cell_type": "code",
   "execution_count": 113,
   "metadata": {},
   "outputs": [],
   "source": [
    "with open('./data.csv', 'w') as f:\n",
    "    x = csv.writer(f,\n",
    "                   delimiter = ',',\n",
    "                   quoting=csv.QUOTE_NONNUMERIC)\n",
    "    for r in df:\n",
    "        x.writerow(r)"
   ]
  },
  {
   "cell_type": "code",
   "execution_count": 114,
   "metadata": {},
   "outputs": [
    {
     "data": {
      "text/plain": [
       "'\"index\",\"name\",\"value\"\\n\\n1,\"A\",3.03\\n\\n2,\"B\",5.14\\n\\n3,\"C\",0.4\\n\\n4,\"D\",1.13\\n\\n5,\"E\",8.25\\n\\n'"
      ]
     },
     "execution_count": 114,
     "metadata": {},
     "output_type": "execute_result"
    }
   ],
   "source": [
    "## verifica el archivo creado\n",
    "open('./data.csv', 'r').read()"
   ]
  },
  {
   "cell_type": "code",
   "execution_count": 115,
   "metadata": {},
   "outputs": [
    {
     "name": "stdout",
     "output_type": "stream",
     "text": [
      "\"index\",\"name\",\"value\"\n",
      "\n",
      "1,\"A\",3.03\n",
      "\n",
      "2,\"B\",5.14\n",
      "\n",
      "3,\"C\",0.4\n",
      "\n",
      "4,\"D\",1.13\n",
      "\n",
      "5,\"E\",8.25\n",
      "\n",
      "\n"
     ]
    }
   ],
   "source": [
    "print(open('./data.csv', 'r').read())"
   ]
  },
  {
   "cell_type": "code",
   "execution_count": 169,
   "metadata": {},
   "outputs": [
    {
     "name": "stdout",
     "output_type": "stream",
     "text": [
      "'INDEX' 'NAME' 'VALUE'1.0 'A' 3.032.0 'B' 5.143.0 'C' 0.44.0 'D' 1.135.0 'E' 8.25\n"
     ]
    }
   ],
   "source": [
    "## lee el archivo csv\n",
    "with open('./data.csv', 'r') as f:\n",
    "    x = csv.reader(f,\n",
    "                   delimiter=',',\n",
    "                   quoting=csv.QUOTE_NONNUMERIC)\n",
    "\n",
    "    cadena  = ''\n",
    "    ## se lee una linea a la vez\n",
    "    for r in x:\n",
    "        cadena = cadena + str(r)\n",
    "#print(cadena)\n",
    "cadena = cadena.replace(\"[\",\"\")\n",
    "cadena = cadena.replace(\"]\",\"\")\n",
    "cadena = cadena.replace(\",\",\"\")\n",
    "cadena = cadena.upper()\n",
    "#print(cadena.upper())\n",
    "\n",
    "print(cadena)\n",
    "\n",
    "\n",
    "#print(cadena.find(\"index\"))\n",
    "    \n",
    "    "
   ]
  },
  {
   "cell_type": "markdown",
   "metadata": {},
   "source": [
    "## Archivos en formato JSON "
   ]
  },
  {
   "cell_type": "code",
   "execution_count": 117,
   "metadata": {},
   "outputs": [],
   "source": [
    "## importa la libreria\n",
    "import json"
   ]
  },
  {
   "cell_type": "code",
   "execution_count": 118,
   "metadata": {},
   "outputs": [
    {
     "data": {
      "text/plain": [
       "'[[\"index\", \"name\", \"value\"], [1, \"A\", 3.03], [2, \"B\", 5.14], [3, \"C\", 0.4], [4, \"D\", 1.13], [5, \"E\", 8.25]]'"
      ]
     },
     "execution_count": 118,
     "metadata": {},
     "output_type": "execute_result"
    }
   ],
   "source": [
    "## convierte los datos en string\n",
    "json.dumps(df)"
   ]
  },
  {
   "cell_type": "code",
   "execution_count": 122,
   "metadata": {},
   "outputs": [
    {
     "data": {
      "text/plain": [
       "'[\\n    [\\n        \"index\",\\n        \"name\",\\n        \"value\"\\n    ],\\n    [\\n        1,\\n        \"A\",\\n        3.03\\n    ],\\n    [\\n        2,\\n        \"B\",\\n        5.14\\n    ],\\n    [\\n        3,\\n        \"C\",\\n        0.4\\n    ],\\n    [\\n        4,\\n        \"D\",\\n        1.13\\n    ],\\n    [\\n        5,\\n        \"E\",\\n        8.25\\n    ]\\n]'"
      ]
     },
     "execution_count": 122,
     "metadata": {},
     "output_type": "execute_result"
    }
   ],
   "source": [
    "## mismo caso anterior pero con impresion 'bonita'\n",
    "json.dumps(df,\n",
    "           sort_keys = True,\n",
    "           indent = 4)\n"
   ]
  },
  {
   "cell_type": "code",
   "execution_count": 120,
   "metadata": {},
   "outputs": [
    {
     "name": "stdout",
     "output_type": "stream",
     "text": [
      "[\n",
      "    [\n",
      "        \"index\",\n",
      "        \"name\",\n",
      "        \"value\"\n",
      "    ],\n",
      "    [\n",
      "        1,\n",
      "        \"A\",\n",
      "        3.03\n",
      "    ],\n",
      "    [\n",
      "        2,\n",
      "        \"B\",\n",
      "        5.14\n",
      "    ],\n",
      "    [\n",
      "        3,\n",
      "        \"C\",\n",
      "        0.4\n",
      "    ],\n",
      "    [\n",
      "        4,\n",
      "        \"D\",\n",
      "        1.13\n",
      "    ],\n",
      "    [\n",
      "        5,\n",
      "        \"E\",\n",
      "        8.25\n",
      "    ]\n",
      "]\n"
     ]
    }
   ],
   "source": [
    "y = json.dumps(df,\n",
    "               sort_keys = True,\n",
    "               indent = 4)\n",
    "print(y)"
   ]
  },
  {
   "cell_type": "code",
   "execution_count": 123,
   "metadata": {},
   "outputs": [
    {
     "data": {
      "text/plain": [
       "[['index', 'name', 'value'],\n",
       " [1, 'A', 3.03],\n",
       " [2, 'B', 5.14],\n",
       " [3, 'C', 0.4],\n",
       " [4, 'D', 1.13],\n",
       " [5, 'E', 8.25]]"
      ]
     },
     "execution_count": 123,
     "metadata": {},
     "output_type": "execute_result"
    }
   ],
   "source": [
    "## convierte el string en datos\n",
    "json.loads(y)"
   ]
  },
  {
   "cell_type": "code",
   "execution_count": 125,
   "metadata": {},
   "outputs": [],
   "source": [
    "## convierte los datos en string y\n",
    "## los guarda en un archivo\n",
    "with open('./data.json', 'w') as f:\n",
    "    json.dump(obj = df,   # datos\n",
    "              fp = f)     # archivo"
   ]
  },
  {
   "cell_type": "code",
   "execution_count": 127,
   "metadata": {},
   "outputs": [
    {
     "data": {
      "text/plain": [
       "'\"index\",\"name\",\"value\"\\n\\n1,\"A\",3.03\\n\\n2,\"B\",5.14\\n\\n3,\"C\",0.4\\n\\n4,\"D\",1.13\\n\\n5,\"E\",8.25\\n\\n'"
      ]
     },
     "execution_count": 127,
     "metadata": {},
     "output_type": "execute_result"
    }
   ],
   "source": [
    "open('./data.csv', 'r').read()"
   ]
  },
  {
   "cell_type": "code",
   "execution_count": 141,
   "metadata": {},
   "outputs": [
    {
     "data": {
      "text/plain": [
       "[['index', 'name', 'value'],\n",
       " [1, 'A', 3.03],\n",
       " [2, 'B', 5.14],\n",
       " [3, 'C', 0.4],\n",
       " [4, 'D', 1.13],\n",
       " [5, 'E', 8.25]]"
      ]
     },
     "execution_count": 141,
     "metadata": {},
     "output_type": "execute_result"
    }
   ],
   "source": [
    "## recupera los datos desde el archivo\n",
    "with open('./data.json', 'r') as f:\n",
    "    x = json.load(fp = f)\n",
    "x"
   ]
  },
  {
   "cell_type": "code",
   "execution_count": null,
   "metadata": {},
   "outputs": [],
   "source": []
  },
  {
   "cell_type": "code",
   "execution_count": null,
   "metadata": {},
   "outputs": [],
   "source": []
  },
  {
   "cell_type": "markdown",
   "metadata": {},
   "source": [
    "\n"
   ]
  },
  {
   "cell_type": "markdown",
   "metadata": {},
   "source": [
    "# Ejemplo"
   ]
  },
  {
   "cell_type": "code",
   "execution_count": 278,
   "metadata": {},
   "outputs": [
    {
     "name": "stderr",
     "output_type": "stream",
     "text": [
      "A subdirectory or file Datos already exists.\n"
     ]
    }
   ],
   "source": [
    "## Se crea un directorio para el ejemplo.\n",
    "!mkdir Datos "
   ]
  },
  {
   "cell_type": "code",
   "execution_count": 279,
   "metadata": {},
   "outputs": [
    {
     "name": "stdout",
     "output_type": "stream",
     "text": [
      "Overwriting Datos/file1.csv\n"
     ]
    },
    {
     "ename": "PermissionError",
     "evalue": "[Errno 13] Permission denied: 'Datos/file1.csv'",
     "output_type": "error",
     "traceback": [
      "\u001b[1;31m---------------------------------------------------------------------------\u001b[0m",
      "\u001b[1;31mPermissionError\u001b[0m                           Traceback (most recent call last)",
      "\u001b[1;32m<ipython-input-279-efc4a598c2c8>\u001b[0m in \u001b[0;36m<module>\u001b[1;34m\u001b[0m\n\u001b[1;32m----> 1\u001b[1;33m \u001b[0mget_ipython\u001b[0m\u001b[1;33m(\u001b[0m\u001b[1;33m)\u001b[0m\u001b[1;33m.\u001b[0m\u001b[0mrun_cell_magic\u001b[0m\u001b[1;33m(\u001b[0m\u001b[1;34m'writefile'\u001b[0m\u001b[1;33m,\u001b[0m \u001b[1;34m'Datos/file1.csv'\u001b[0m\u001b[1;33m,\u001b[0m \u001b[1;34m\"a,1,12\\nb,2,13\\nc,,'14'\\n0,\\\\N,15\\na,\\\\N,'0'\\ne,,\\n0,\\n\\\\N,,\\n,,\\na,0,0\\n\\\\n,\\\\n,\\\\n\\n\"\u001b[0m\u001b[1;33m)\u001b[0m\u001b[1;33m\u001b[0m\u001b[1;33m\u001b[0m\u001b[0m\n\u001b[0m",
      "\u001b[1;32mC:\\ProgramData\\Anaconda3\\lib\\site-packages\\IPython\\core\\interactiveshell.py\u001b[0m in \u001b[0;36mrun_cell_magic\u001b[1;34m(self, magic_name, line, cell)\u001b[0m\n\u001b[0;32m   2350\u001b[0m             \u001b[1;32mwith\u001b[0m \u001b[0mself\u001b[0m\u001b[1;33m.\u001b[0m\u001b[0mbuiltin_trap\u001b[0m\u001b[1;33m:\u001b[0m\u001b[1;33m\u001b[0m\u001b[1;33m\u001b[0m\u001b[0m\n\u001b[0;32m   2351\u001b[0m                 \u001b[0margs\u001b[0m \u001b[1;33m=\u001b[0m \u001b[1;33m(\u001b[0m\u001b[0mmagic_arg_s\u001b[0m\u001b[1;33m,\u001b[0m \u001b[0mcell\u001b[0m\u001b[1;33m)\u001b[0m\u001b[1;33m\u001b[0m\u001b[1;33m\u001b[0m\u001b[0m\n\u001b[1;32m-> 2352\u001b[1;33m                 \u001b[0mresult\u001b[0m \u001b[1;33m=\u001b[0m \u001b[0mfn\u001b[0m\u001b[1;33m(\u001b[0m\u001b[1;33m*\u001b[0m\u001b[0margs\u001b[0m\u001b[1;33m,\u001b[0m \u001b[1;33m**\u001b[0m\u001b[0mkwargs\u001b[0m\u001b[1;33m)\u001b[0m\u001b[1;33m\u001b[0m\u001b[1;33m\u001b[0m\u001b[0m\n\u001b[0m\u001b[0;32m   2353\u001b[0m             \u001b[1;32mreturn\u001b[0m \u001b[0mresult\u001b[0m\u001b[1;33m\u001b[0m\u001b[1;33m\u001b[0m\u001b[0m\n\u001b[0;32m   2354\u001b[0m \u001b[1;33m\u001b[0m\u001b[0m\n",
      "\u001b[1;32m<C:\\ProgramData\\Anaconda3\\lib\\site-packages\\decorator.py:decorator-gen-106>\u001b[0m in \u001b[0;36mwritefile\u001b[1;34m(self, line, cell)\u001b[0m\n",
      "\u001b[1;32mC:\\ProgramData\\Anaconda3\\lib\\site-packages\\IPython\\core\\magic.py\u001b[0m in \u001b[0;36m<lambda>\u001b[1;34m(f, *a, **k)\u001b[0m\n\u001b[0;32m    185\u001b[0m     \u001b[1;31m# but it's overkill for just that one bit of state.\u001b[0m\u001b[1;33m\u001b[0m\u001b[1;33m\u001b[0m\u001b[1;33m\u001b[0m\u001b[0m\n\u001b[0;32m    186\u001b[0m     \u001b[1;32mdef\u001b[0m \u001b[0mmagic_deco\u001b[0m\u001b[1;33m(\u001b[0m\u001b[0marg\u001b[0m\u001b[1;33m)\u001b[0m\u001b[1;33m:\u001b[0m\u001b[1;33m\u001b[0m\u001b[1;33m\u001b[0m\u001b[0m\n\u001b[1;32m--> 187\u001b[1;33m         \u001b[0mcall\u001b[0m \u001b[1;33m=\u001b[0m \u001b[1;32mlambda\u001b[0m \u001b[0mf\u001b[0m\u001b[1;33m,\u001b[0m \u001b[1;33m*\u001b[0m\u001b[0ma\u001b[0m\u001b[1;33m,\u001b[0m \u001b[1;33m**\u001b[0m\u001b[0mk\u001b[0m\u001b[1;33m:\u001b[0m \u001b[0mf\u001b[0m\u001b[1;33m(\u001b[0m\u001b[1;33m*\u001b[0m\u001b[0ma\u001b[0m\u001b[1;33m,\u001b[0m \u001b[1;33m**\u001b[0m\u001b[0mk\u001b[0m\u001b[1;33m)\u001b[0m\u001b[1;33m\u001b[0m\u001b[1;33m\u001b[0m\u001b[0m\n\u001b[0m\u001b[0;32m    188\u001b[0m \u001b[1;33m\u001b[0m\u001b[0m\n\u001b[0;32m    189\u001b[0m         \u001b[1;32mif\u001b[0m \u001b[0mcallable\u001b[0m\u001b[1;33m(\u001b[0m\u001b[0marg\u001b[0m\u001b[1;33m)\u001b[0m\u001b[1;33m:\u001b[0m\u001b[1;33m\u001b[0m\u001b[1;33m\u001b[0m\u001b[0m\n",
      "\u001b[1;32mC:\\ProgramData\\Anaconda3\\lib\\site-packages\\IPython\\core\\magics\\osm.py\u001b[0m in \u001b[0;36mwritefile\u001b[1;34m(self, line, cell)\u001b[0m\n\u001b[0;32m    840\u001b[0m \u001b[1;33m\u001b[0m\u001b[0m\n\u001b[0;32m    841\u001b[0m         \u001b[0mmode\u001b[0m \u001b[1;33m=\u001b[0m \u001b[1;34m'a'\u001b[0m \u001b[1;32mif\u001b[0m \u001b[0margs\u001b[0m\u001b[1;33m.\u001b[0m\u001b[0mappend\u001b[0m \u001b[1;32melse\u001b[0m \u001b[1;34m'w'\u001b[0m\u001b[1;33m\u001b[0m\u001b[1;33m\u001b[0m\u001b[0m\n\u001b[1;32m--> 842\u001b[1;33m         \u001b[1;32mwith\u001b[0m \u001b[0mio\u001b[0m\u001b[1;33m.\u001b[0m\u001b[0mopen\u001b[0m\u001b[1;33m(\u001b[0m\u001b[0mfilename\u001b[0m\u001b[1;33m,\u001b[0m \u001b[0mmode\u001b[0m\u001b[1;33m,\u001b[0m \u001b[0mencoding\u001b[0m\u001b[1;33m=\u001b[0m\u001b[1;34m'utf-8'\u001b[0m\u001b[1;33m)\u001b[0m \u001b[1;32mas\u001b[0m \u001b[0mf\u001b[0m\u001b[1;33m:\u001b[0m\u001b[1;33m\u001b[0m\u001b[1;33m\u001b[0m\u001b[0m\n\u001b[0m\u001b[0;32m    843\u001b[0m             \u001b[0mf\u001b[0m\u001b[1;33m.\u001b[0m\u001b[0mwrite\u001b[0m\u001b[1;33m(\u001b[0m\u001b[0mcell\u001b[0m\u001b[1;33m)\u001b[0m\u001b[1;33m\u001b[0m\u001b[1;33m\u001b[0m\u001b[0m\n",
      "\u001b[1;31mPermissionError\u001b[0m: [Errno 13] Permission denied: 'Datos/file1.csv'"
     ]
    }
   ],
   "source": [
    "%%writefile Datos/file1.csv\n",
    "a,1,12\n",
    "b,2,13\n",
    "c,,'14'\n",
    "0,\\N,15\n",
    "a,\\N,'0'\n",
    "e,,\n",
    "0,\n",
    "\\N,,\n",
    ",,\n",
    "a,0,0\n",
    "\\n,\\n,\\n\n"
   ]
  },
  {
   "cell_type": "code",
   "execution_count": 173,
   "metadata": {},
   "outputs": [
    {
     "name": "stdout",
     "output_type": "stream",
     "text": [
      "Writing Datos/file2.csv\n"
     ]
    }
   ],
   "source": [
    "%%writefile Datos/file2.csv\n",
    "b,1,12\n",
    "a,2,13\n",
    "d,,14\n",
    "0,\\N,15\n",
    "\\n\n",
    "\\n\n",
    "\n",
    "e,,\n",
    ",,,\n",
    "K,3,\\n"
   ]
  },
  {
   "cell_type": "code",
   "execution_count": 174,
   "metadata": {},
   "outputs": [
    {
     "name": "stdout",
     "output_type": "stream",
     "text": [
      "Writing Datos/file3.csv\n"
     ]
    }
   ],
   "source": [
    "%%writefile Datos/file3.csv\n",
    "b;1;12\n",
    "'a';4;13\n",
    "a;3;13\n",
    "\n",
    "'c';3;17\n",
    "'a';'\\n';'15'\n",
    "E;2;0"
   ]
  },
  {
   "cell_type": "markdown",
   "metadata": {},
   "source": [
    "Los archivos tienen tres columnas. Los valores válidos para cada columna son los siguientes:\n",
    "\n",
    "Columna 1: Letra en el conjunto {a, b, c, d, e} (en minúsculas).\n",
    "\n",
    "Columna 2: Número entero.\n",
    "\n",
    "Columna 3: Número entero.\n",
    "\n",
    "El archivo final que se genera como resultado del proceso de ETL se debe llamar summary.csv, y es delimitado por comas. Para este archivo se aplican las siguientes reglas de negocio:\n",
    "\n",
    "Los campos con valores nulos se indican con \\N (mayúscula).\n",
    "\n",
    "Las líneas en blanco deben ser eliminadas."
   ]
  },
  {
   "cell_type": "markdown",
   "metadata": {},
   "source": [
    "## Lectura de archivos"
   ]
  },
  {
   "cell_type": "code",
   "execution_count": 280,
   "metadata": {},
   "outputs": [
    {
     "name": "stdout",
     "output_type": "stream",
     "text": [
      "['Datos\\\\file1.csv', 'Datos\\\\file2.csv', 'Datos\\\\file3.csv']\n"
     ]
    }
   ],
   "source": [
    "import glob\n",
    "\n",
    "filenames = glob.glob('Datos/*.csv')\n",
    "print(filenames)"
   ]
  },
  {
   "cell_type": "code",
   "execution_count": 281,
   "metadata": {},
   "outputs": [
    {
     "data": {
      "text/plain": [
       "['a,1,12\\n',\n",
       " 'b,2,13\\n',\n",
       " \"c,,'14'\\n\",\n",
       " '0,\\\\N,15\\n',\n",
       " \"a,\\\\N,'0'\\n\",\n",
       " 'e,,\\n',\n",
       " '0,\\n',\n",
       " '\\\\N,,\\n',\n",
       " ',,\\n',\n",
       " 'a,0,0\\n',\n",
       " '\\\\n,\\\\n,\\\\n\\n',\n",
       " 'b,1,12\\n',\n",
       " 'a,2,13\\n',\n",
       " 'd,,14\\n',\n",
       " '0,\\\\N,15\\n',\n",
       " '\\\\n\\n',\n",
       " '\\\\n\\n',\n",
       " '\\n',\n",
       " 'e,,\\n',\n",
       " ',,,\\n',\n",
       " 'K,3,\\\\n\\n',\n",
       " 'b;1;12\\n',\n",
       " \"'a';4;13\\n\",\n",
       " 'a;3;13\\n',\n",
       " '\\n',\n",
       " \"'c';3;17\\n\",\n",
       " \"'a';'\\\\n';'15'\\n\",\n",
       " 'E;2;0\\n']"
      ]
     },
     "execution_count": 281,
     "metadata": {},
     "output_type": "execute_result"
    }
   ],
   "source": [
    "## Se crea una variable para almacenar el contenido de los archivos\n",
    "text = []\n",
    "\n",
    "## Para cada archivo en la lista de archivos\n",
    "## se abre el archivo y se lee su contenido.\n",
    "## La función readlines() devuelve el contenido del\n",
    "## archivo como una lista de strings, donde cada\n",
    "## string es una linea del archivo. Finalmente, el\n",
    "## operador '+' concatena las listas.\n",
    "for filename in filenames:\n",
    "    with open(filename, 'rt') as f:\n",
    "        text += f.readlines()\n",
    "\n",
    "text"
   ]
  },
  {
   "cell_type": "code",
   "execution_count": 282,
   "metadata": {},
   "outputs": [
    {
     "data": {
      "text/plain": [
       "['a,1,12',\n",
       " 'b,2,13',\n",
       " \"c,,'14'\",\n",
       " '0,\\\\N,15',\n",
       " \"a,\\\\N,'0'\",\n",
       " 'e,,',\n",
       " '0,',\n",
       " '\\\\N,,',\n",
       " ',,',\n",
       " 'a,0,0',\n",
       " '\\\\n,\\\\n,\\\\n',\n",
       " 'b,1,12',\n",
       " 'a,2,13',\n",
       " 'd,,14',\n",
       " '0,\\\\N,15',\n",
       " '\\\\n',\n",
       " '\\\\n',\n",
       " '',\n",
       " 'e,,',\n",
       " ',,,',\n",
       " 'K,3,\\\\n',\n",
       " 'b;1;12',\n",
       " \"'a';4;13\",\n",
       " 'a;3;13',\n",
       " '',\n",
       " \"'c';3;17\",\n",
       " \"'a';'\\\\n';'15'\",\n",
       " 'E;2;0']"
      ]
     },
     "execution_count": 282,
     "metadata": {},
     "output_type": "execute_result"
    }
   ],
   "source": [
    "## Note que se leyo tambien el retorno de carro '\\n'.\n",
    "## Se procede a eliminarlo. line[:-1] indica el\n",
    "## contenido de line desde el primer caracter hasta\n",
    "## el penúltimo\n",
    "text = [line[:-1] for line in text]\n",
    "text"
   ]
  },
  {
   "cell_type": "markdown",
   "metadata": {},
   "source": [
    " ## Regla: Todos los registros deben tener tres (3) columnas"
   ]
  },
  {
   "cell_type": "code",
   "execution_count": 283,
   "metadata": {},
   "outputs": [
    {
     "name": "stdout",
     "output_type": "stream",
     "text": [
      "['0', '']\n",
      "['\\\\n']\n",
      "['\\\\n']\n",
      "['']\n",
      "['', '', '', '']\n",
      "['b;1;12']\n",
      "[\"'a';4;13\"]\n",
      "['a;3;13']\n",
      "['']\n",
      "[\"'c';3;17\"]\n",
      "[\"'a';'\\\\n';'15'\"]\n",
      "['E;2;0']\n"
     ]
    }
   ],
   "source": [
    "## Se separan los campos deliminados por comas\n",
    "csv = [line.split(',') for line in text]\n",
    "\n",
    "## Se imprimen las lineas que no tienen tres campos\n",
    "for line in csv:\n",
    "    if len(line) != 3:\n",
    "        print(line)"
   ]
  },
  {
   "cell_type": "code",
   "execution_count": 284,
   "metadata": {},
   "outputs": [
    {
     "name": "stdout",
     "output_type": "stream",
     "text": [
      "['0', '']\n",
      "['\\\\n']\n",
      "['\\\\n']\n",
      "['']\n",
      "['', '', '', '']\n",
      "['']\n"
     ]
    }
   ],
   "source": [
    "## Hay archivos que están delimitados por ';'.\n",
    "## Se reemplazan el ';' por ',' y se verifica nuevamente las lineas que tiene\n",
    "text = [line.replace(';', ',') for line in text]\n",
    "\n",
    "csv = [line.split(',') for line in text]\n",
    "for line in csv:\n",
    "    if len(line) != 3:\n",
    "        print(line)"
   ]
  },
  {
   "cell_type": "code",
   "execution_count": 285,
   "metadata": {},
   "outputs": [
    {
     "name": "stdout",
     "output_type": "stream",
     "text": [
      "['0', '']\n",
      "['\\\\n']\n",
      "['\\\\n']\n",
      "['', '', '', '']\n"
     ]
    }
   ],
   "source": [
    "## Hay lineas vacias\n",
    "\n",
    "## Quita las lineas vacias\n",
    "text = [line for line in text if line != '']\n",
    "\n",
    "csv = [line.split(',') for line in text]\n",
    "for line in csv:\n",
    "    if len(line) != 3:\n",
    "        print(line)"
   ]
  },
  {
   "cell_type": "code",
   "execution_count": 286,
   "metadata": {},
   "outputs": [
    {
     "data": {
      "text/plain": [
       "[['a', '1', '12'],\n",
       " ['b', '2', '13'],\n",
       " ['c', '', \"'14'\"],\n",
       " ['0', '\\\\N', '15'],\n",
       " ['a', '\\\\N', \"'0'\"],\n",
       " ['e', '', ''],\n",
       " ['\\\\N', '', ''],\n",
       " ['', '', ''],\n",
       " ['a', '0', '0'],\n",
       " ['\\\\n', '\\\\n', '\\\\n'],\n",
       " ['b', '1', '12'],\n",
       " ['a', '2', '13'],\n",
       " ['d', '', '14'],\n",
       " ['0', '\\\\N', '15'],\n",
       " ['e', '', ''],\n",
       " ['K', '3', '\\\\n'],\n",
       " ['b', '1', '12'],\n",
       " [\"'a'\", '4', '13'],\n",
       " ['a', '3', '13'],\n",
       " [\"'c'\", '3', '17'],\n",
       " [\"'a'\", \"'\\\\n'\", \"'15'\"],\n",
       " ['E', '2', '0']]"
      ]
     },
     "execution_count": 286,
     "metadata": {},
     "output_type": "execute_result"
    }
   ],
   "source": [
    "## Se pueden eliminar lineas que no tienen tres campos\n",
    "\n",
    "csv = [line.split(',') for line in text]\n",
    "csv = [line for line in csv if len(line) == 3]\n",
    "csv"
   ]
  },
  {
   "cell_type": "markdown",
   "metadata": {},
   "source": [
    "## Los valores válidos de la columna 1 son {a, b, c, d, e} en minúsculas"
   ]
  },
  {
   "cell_type": "code",
   "execution_count": 287,
   "metadata": {},
   "outputs": [
    {
     "name": "stdout",
     "output_type": "stream",
     "text": [
      "['0', '\\\\N', '15']\n",
      "['', '', '']\n",
      "['\\\\n', '\\\\n', '\\\\n']\n",
      "['0', '\\\\N', '15']\n",
      "['K', '3', '\\\\n']\n",
      "[\"'a'\", '4', '13']\n",
      "[\"'c'\", '3', '17']\n",
      "[\"'a'\", \"'\\\\n'\", \"'15'\"]\n",
      "['E', '2', '0']\n"
     ]
    }
   ],
   "source": [
    "## El primer paso es inspeccionar los valores de la columna 1 que no\n",
    "## son válidos para determinar las acciones a tomar.\n",
    "\n",
    "for line in csv:\n",
    "    if line[0] not in ['a', 'b', 'c', 'd', 'e', '\\\\N']:\n",
    "        print(line)"
   ]
  },
  {
   "cell_type": "code",
   "execution_count": 288,
   "metadata": {},
   "outputs": [
    {
     "name": "stdout",
     "output_type": "stream",
     "text": [
      "['0', '\\\\N', '15']\n",
      "['', '', '']\n",
      "['\\\\n', '\\\\n', '\\\\n']\n",
      "['0', '\\\\N', '15']\n",
      "['K', '3', '\\\\n']\n",
      "['E', '2', '0']\n"
     ]
    }
   ],
   "source": [
    "## Hay registros con letras delimitadas por comillas simples\n",
    "csv = [ [line[0][1:2]] + line[1:] if len(line[0]) == 3 else line for line in csv]\n",
    "\n",
    "## se imprimen los registros que continuan con problemas\n",
    "for line in csv:\n",
    "    if line[0] not in ['a', 'b', 'c', 'd', 'e', '\\\\N']:\n",
    "        print(line)"
   ]
  },
  {
   "cell_type": "code",
   "execution_count": 289,
   "metadata": {},
   "outputs": [
    {
     "name": "stdout",
     "output_type": "stream",
     "text": [
      "['0', '\\\\N', '15']\n",
      "['\\\\n', '', '']\n",
      "['', '', '']\n",
      "['\\\\n', '\\\\n', '\\\\n']\n",
      "['0', '\\\\N', '15']\n",
      "['k', '3', '\\\\n']\n"
     ]
    }
   ],
   "source": [
    "## Hay letras en mayúsculas\n",
    "csv = [ [line[0].lower()] + line[1:] for line in csv]\n",
    "\n",
    "for line in csv:\n",
    "    if line[0] not in ['a', 'b', 'c', 'd', 'e', '\\\\N']:\n",
    "        print(line)"
   ]
  },
  {
   "cell_type": "code",
   "execution_count": 290,
   "metadata": {},
   "outputs": [],
   "source": [
    "## Se toma la decisión de remplazar los valores inválidos\n",
    "## en la columna 1 por \\N\n",
    "csv = [ ['\\\\N'] + line[1:] if line[0] not in ['a', 'b', 'c', 'd', 'e'] else line for line in csv]\n",
    "\n",
    "for line in csv:\n",
    "    if line[0] not in ['a', 'b', 'c', 'd', 'e', '\\\\N']:\n",
    "        print(line)"
   ]
  },
  {
   "cell_type": "code",
   "execution_count": 291,
   "metadata": {},
   "outputs": [
    {
     "data": {
      "text/plain": [
       "[['a', '1', '12'],\n",
       " ['b', '2', '13'],\n",
       " ['c', '', \"'14'\"],\n",
       " ['\\\\N', '\\\\N', '15'],\n",
       " ['a', '\\\\N', \"'0'\"],\n",
       " ['e', '', ''],\n",
       " ['\\\\N', '', ''],\n",
       " ['\\\\N', '', ''],\n",
       " ['a', '0', '0'],\n",
       " ['\\\\N', '\\\\n', '\\\\n'],\n",
       " ['b', '1', '12'],\n",
       " ['a', '2', '13'],\n",
       " ['d', '', '14'],\n",
       " ['\\\\N', '\\\\N', '15'],\n",
       " ['e', '', ''],\n",
       " ['\\\\N', '3', '\\\\n'],\n",
       " ['b', '1', '12'],\n",
       " ['a', '4', '13'],\n",
       " ['a', '3', '13'],\n",
       " ['c', '3', '17'],\n",
       " ['a', \"'\\\\n'\", \"'15'\"],\n",
       " ['e', '2', '0']]"
      ]
     },
     "execution_count": 291,
     "metadata": {},
     "output_type": "execute_result"
    }
   ],
   "source": [
    "## se visualilza el resultado\n",
    "csv"
   ]
  },
  {
   "cell_type": "code",
   "execution_count": 292,
   "metadata": {},
   "outputs": [
    {
     "data": {
      "text/plain": [
       "[['a', '1', '12'],\n",
       " ['b', '2', '13'],\n",
       " ['c', '', \"'14'\"],\n",
       " ['\\\\N', '\\\\N', '15'],\n",
       " ['a', '\\\\N', \"'0'\"],\n",
       " ['e', '', ''],\n",
       " ['\\\\N', '', ''],\n",
       " ['\\\\N', '', ''],\n",
       " ['a', '0', '0'],\n",
       " ['\\\\N', '\\\\N', '\\\\N'],\n",
       " ['b', '1', '12'],\n",
       " ['a', '2', '13'],\n",
       " ['d', '', '14'],\n",
       " ['\\\\N', '\\\\N', '15'],\n",
       " ['e', '', ''],\n",
       " ['\\\\N', '3', '\\\\N'],\n",
       " ['b', '1', '12'],\n",
       " ['a', '4', '13'],\n",
       " ['a', '3', '13'],\n",
       " ['c', '3', '17'],\n",
       " ['a', \"'\\\\N'\", \"'15'\"],\n",
       " ['e', '2', '0']]"
      ]
     },
     "execution_count": 292,
     "metadata": {},
     "output_type": "execute_result"
    }
   ],
   "source": [
    "## Regla 2: los valores nulos se notan como '\\N'\n",
    "\n",
    "## Se reemplazan los '\\n' por '\\N'\n",
    "## es mas simple procesar cada linea como un string\n",
    "text = [','.join(line) for line in csv]\n",
    "text = [line.replace('\\\\n', '\\\\N') for line in text]\n",
    "csv = [line.split(',') for line in text]\n",
    "csv"
   ]
  },
  {
   "cell_type": "code",
   "execution_count": 293,
   "metadata": {},
   "outputs": [
    {
     "data": {
      "text/plain": [
       "[['a', '1', '12'],\n",
       " ['b', '2', '13'],\n",
       " ['c', '\\\\N', \"'14'\"],\n",
       " ['\\\\N', '\\\\N', '15'],\n",
       " ['a', '\\\\N', \"'0'\"],\n",
       " ['e', '\\\\N', '\\\\N'],\n",
       " ['\\\\N', '\\\\N', '\\\\N'],\n",
       " ['\\\\N', '\\\\N', '\\\\N'],\n",
       " ['a', '0', '0'],\n",
       " ['\\\\N', '\\\\N', '\\\\N'],\n",
       " ['b', '1', '12'],\n",
       " ['a', '2', '13'],\n",
       " ['d', '\\\\N', '14'],\n",
       " ['\\\\N', '\\\\N', '15'],\n",
       " ['e', '\\\\N', '\\\\N'],\n",
       " ['\\\\N', '3', '\\\\N'],\n",
       " ['b', '1', '12'],\n",
       " ['a', '4', '13'],\n",
       " ['a', '3', '13'],\n",
       " ['c', '3', '17'],\n",
       " ['a', \"'\\\\N'\", \"'15'\"],\n",
       " ['e', '2', '0']]"
      ]
     },
     "execution_count": 293,
     "metadata": {},
     "output_type": "execute_result"
    }
   ],
   "source": [
    "## Los '' se reemplazan por '\\N'\n",
    "csv = [['\\\\N' if field == '' else field for field in line] for line in csv]\n",
    "csv"
   ]
  },
  {
   "cell_type": "markdown",
   "metadata": {},
   "source": [
    "## Los valores de la columna 2 son enteros o nulos"
   ]
  },
  {
   "cell_type": "code",
   "execution_count": 294,
   "metadata": {},
   "outputs": [
    {
     "data": {
      "text/plain": [
       "[['a', \"'\\\\N'\", \"'15'\"]]"
      ]
     },
     "execution_count": 294,
     "metadata": {},
     "output_type": "execute_result"
    }
   ],
   "source": [
    "## Se imprimen los registros con problemas\n",
    "[line for line in csv if not line[1].isdigit() and line[1] != '\\\\N']"
   ]
  },
  {
   "cell_type": "code",
   "execution_count": 295,
   "metadata": {},
   "outputs": [
    {
     "data": {
      "text/plain": [
       "[['a', '1', '12'],\n",
       " ['b', '2', '13'],\n",
       " ['c', '\\\\N', \"'14'\"],\n",
       " ['\\\\N', '\\\\N', '15'],\n",
       " ['a', '\\\\N', \"'0'\"],\n",
       " ['e', '\\\\N', '\\\\N'],\n",
       " ['\\\\N', '\\\\N', '\\\\N'],\n",
       " ['\\\\N', '\\\\N', '\\\\N'],\n",
       " ['a', '0', '0'],\n",
       " ['\\\\N', '\\\\N', '\\\\N'],\n",
       " ['b', '1', '12'],\n",
       " ['a', '2', '13'],\n",
       " ['d', '\\\\N', '14'],\n",
       " ['\\\\N', '\\\\N', '15'],\n",
       " ['e', '\\\\N', '\\\\N'],\n",
       " ['\\\\N', '3', '\\\\N'],\n",
       " ['b', '1', '12'],\n",
       " ['a', '4', '13'],\n",
       " ['a', '3', '13'],\n",
       " ['c', '3', '17'],\n",
       " ['a', '\\\\N', \"'15'\"],\n",
       " ['e', '2', '0']]"
      ]
     },
     "execution_count": 295,
     "metadata": {},
     "output_type": "execute_result"
    }
   ],
   "source": [
    "## Hay nulos con comillas simples\n",
    "text = [','.join(line) for line in csv]\n",
    "text = [line.replace(\"'\\\\N'\", '\\\\N') for line in text]\n",
    "csv = [line.split(',') for line in text]\n",
    "csv\n"
   ]
  },
  {
   "cell_type": "markdown",
   "metadata": {},
   "source": [
    "## Los valores de la columna 3 son enteros o nulos"
   ]
  },
  {
   "cell_type": "code",
   "execution_count": 296,
   "metadata": {},
   "outputs": [
    {
     "data": {
      "text/plain": [
       "[['c', '\\\\N', \"'14'\"], ['a', '\\\\N', \"'0'\"], ['a', '\\\\N', \"'15'\"]]"
      ]
     },
     "execution_count": 296,
     "metadata": {},
     "output_type": "execute_result"
    }
   ],
   "source": [
    "## Se imprimen los registros con problemas\n",
    "[line for line in csv if not line[2].isdigit() and line[2] != '\\\\N']"
   ]
  },
  {
   "cell_type": "code",
   "execution_count": 297,
   "metadata": {},
   "outputs": [],
   "source": [
    "csv = [line[:2] + [line[2][1:-1]] if (line[2][0] == \"'\" and line[2] != '\\\\N')  else line for line in csv ]"
   ]
  },
  {
   "cell_type": "markdown",
   "metadata": {},
   "source": [
    "## Se genera el archivo de salida"
   ]
  },
  {
   "cell_type": "code",
   "execution_count": 298,
   "metadata": {},
   "outputs": [
    {
     "data": {
      "text/plain": [
       "['a,1,12',\n",
       " 'b,2,13',\n",
       " 'c,\\\\N,14',\n",
       " '\\\\N,\\\\N,15',\n",
       " 'a,\\\\N,0',\n",
       " 'e,\\\\N,\\\\N',\n",
       " '\\\\N,\\\\N,\\\\N',\n",
       " '\\\\N,\\\\N,\\\\N',\n",
       " 'a,0,0',\n",
       " '\\\\N,\\\\N,\\\\N',\n",
       " 'b,1,12',\n",
       " 'a,2,13',\n",
       " 'd,\\\\N,14',\n",
       " '\\\\N,\\\\N,15',\n",
       " 'e,\\\\N,\\\\N',\n",
       " '\\\\N,3,\\\\N',\n",
       " 'b,1,12',\n",
       " 'a,4,13',\n",
       " 'a,3,13',\n",
       " 'c,3,17',\n",
       " 'a,\\\\N,15',\n",
       " 'e,2,0']"
      ]
     },
     "execution_count": 298,
     "metadata": {},
     "output_type": "execute_result"
    }
   ],
   "source": [
    "text = [','.join(line) for line in csv]\n",
    "text"
   ]
  },
  {
   "cell_type": "code",
   "execution_count": 299,
   "metadata": {},
   "outputs": [],
   "source": [
    "text = '\\n'.join(text)"
   ]
  },
  {
   "cell_type": "code",
   "execution_count": 300,
   "metadata": {},
   "outputs": [],
   "source": [
    "with open(\"summary.csv\", \"w\") as f:\n",
    "    f.write(text)"
   ]
  },
  {
   "cell_type": "code",
   "execution_count": 301,
   "metadata": {},
   "outputs": [
    {
     "name": "stderr",
     "output_type": "stream",
     "text": [
      "'cat' is not recognized as an internal or external command,\n",
      "operable program or batch file.\n"
     ]
    }
   ],
   "source": [
    "!cat summary.csv"
   ]
  },
  {
   "cell_type": "code",
   "execution_count": 302,
   "metadata": {},
   "outputs": [
    {
     "name": "stderr",
     "output_type": "stream",
     "text": [
      "'rm' is not recognized as an internal or external command,\n",
      "operable program or batch file.\n",
      "'rm' is not recognized as an internal or external command,\n",
      "operable program or batch file.\n"
     ]
    }
   ],
   "source": [
    "\n",
    "## limpia el directorio de trabajo\n",
    "!rm -rf directory\n",
    "!rm summary.csv"
   ]
  },
  {
   "cell_type": "code",
   "execution_count": null,
   "metadata": {},
   "outputs": [],
   "source": []
  }
 ],
 "metadata": {
  "kernelspec": {
   "display_name": "Python 3",
   "language": "python",
   "name": "python3"
  },
  "language_info": {
   "codemirror_mode": {
    "name": "ipython",
    "version": 3
   },
   "file_extension": ".py",
   "mimetype": "text/x-python",
   "name": "python",
   "nbconvert_exporter": "python",
   "pygments_lexer": "ipython3",
   "version": "3.7.3"
  }
 },
 "nbformat": 4,
 "nbformat_minor": 2
}
